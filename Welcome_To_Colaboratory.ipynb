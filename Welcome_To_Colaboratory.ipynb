{
  "cells": [
    {
      "cell_type": "code",
      "source": [
        "import pandas as pd\n",
        "\n",
        "# Load the Excel file\n",
        "df = pd.read_excel(\"/content/Siddipet-33-AC- iToC Voter Data.xlsx\")\n",
        "\n",
        "# Replace 'BOOTH' with the actual column name in your DataFrame\n",
        "column_name = 'B#'\n",
        "\n",
        "# Iterate through unique booth numbers\n",
        "for booth_number in df[column_name].unique():\n",
        "    # Select all rows for each booth number\n",
        "    booth_data = df[df[column_name] == booth_number]\n",
        "\n",
        "    # Write the booth data to a new Excel file\n",
        "    booth_data.to_excel(f\"booth_{booth_number}.xlsx\", index=False)\n",
        "\n"
      ],
      "metadata": {
        "id": "tHRBK6P0DwbV"
      },
      "execution_count": 57,
      "outputs": []
    },
    {
      "cell_type": "code",
      "source": [
        "from google.colab import files\n",
        "import os\n",
        "import zipfile\n",
        "\n",
        "# Get the list of all files in the current directory\n",
        "file_paths = [f for f in os.listdir('.') if os.path.isfile(f) and (f.endswith('.xlsx')) or (f.endswith('.txt'))]\n",
        "\n",
        "# Create a zip file with all the files\n",
        "zip_filename = 'Survey.zip'\n",
        "with zipfile.ZipFile(zip_filename, 'w') as zipf:\n",
        "    for file_path in file_paths:\n",
        "        zipf.write(file_path)\n"
      ],
      "metadata": {
        "id": "hizIyHSYFsRv"
      },
      "execution_count": 58,
      "outputs": []
    },
    {
      "cell_type": "code",
      "source": [
        "import os\n",
        "\n",
        "# Specify the directory path\n",
        "directory_path = \"/content\"\n",
        "\n",
        "# Define the file types to be removed\n",
        "file_types_to_remove = [\".pdf\", \".xlsx\", \".txt\"]\n",
        "\n",
        "# Get the list of files in the directory\n",
        "files = os.listdir(directory_path)\n",
        "\n",
        "# Iterate through the files and remove the specified file types\n",
        "for file in files:\n",
        "    file_path = os.path.join(directory_path, file)\n",
        "    if any(file.endswith(file_type) for file_type in file_types_to_remove):\n",
        "        os.remove(file_path)\n",
        "\n",
        "print(\"File removal complete.\")"
      ],
      "metadata": {
        "id": "DIQmi7AnG7GV",
        "outputId": "5a00aff2-e3c8-4e90-a0cd-6ba22e846523",
        "colab": {
          "base_uri": "https://localhost:8080/"
        }
      },
      "execution_count": 59,
      "outputs": [
        {
          "output_type": "stream",
          "name": "stdout",
          "text": [
            "File removal complete.\n"
          ]
        }
      ]
    },
    {
      "cell_type": "code",
      "source": [
        "import pandas as pd\n",
        "import zipfile\n",
        "import os\n",
        "import random\n",
        "import shutil\n",
        "\n",
        "def process_excel_file(file_path, temp_dir):\n",
        "    # Load the Excel file\n",
        "    df = pd.read_excel(file_path)\n",
        "\n",
        "    # Check if the \"Mobile\" column is not empty between rows 20 and 25\n",
        "    if 20 <= df.index.min() and 25 <= df.index.max() and not df.iloc[20:26]['Mobile'].dropna().empty:\n",
        "        # Pick one random row from rows 20 to 25 where the mobile column is not empty\n",
        "        selected_row = df.iloc[20:26].dropna(subset=['Mobile']).sample(1)\n",
        "    else:\n",
        "        # Use the entire sheet if the mobile column is not empty between rows 20 and 25\n",
        "        selected_row = df.dropna(subset=['Mobile']).sample(1)\n",
        "\n",
        "    return selected_row\n",
        "\n",
        "# Specify the path to your zip file\n",
        "zip_file_path = \"/content/Survey.zip\"\n",
        "\n",
        "# Specify the output Excel file name\n",
        "output_excel_file = \"Siddipet Survey.xlsx\"\n",
        "\n",
        "# Specify the temporary directory\n",
        "temp_dir = \"temp_dir\"\n",
        "\n",
        "# Remove the contents of the temporary directory if it exists\n",
        "if os.path.exists(temp_dir):\n",
        "    shutil.rmtree(temp_dir)\n",
        "\n",
        "# Create the temporary directory\n",
        "os.makedirs(temp_dir)\n",
        "\n",
        "# Open the zip file and iterate through its contents\n",
        "with zipfile.ZipFile(zip_file_path, 'r') as zip_ref:\n",
        "    # Get the list of file names in the zip archive\n",
        "    file_names = zip_ref.namelist()\n",
        "\n",
        "    # Iterate through each file in the zip archive\n",
        "    for file_name in file_names:\n",
        "        # Extract the file to the temporary directory\n",
        "        zip_ref.extract(file_name, temp_dir)\n",
        "\n",
        "        # Process the Excel file and get the selected row\n",
        "        selected_row = process_excel_file(os.path.join(temp_dir, file_name), temp_dir)\n",
        "\n",
        "        # Save the selected row to the temporary directory\n",
        "        selected_row.to_excel(os.path.join(temp_dir, f\"{file_name}_selected_row.xlsx\"), index=False)\n",
        "\n",
        "# Merge all selected rows into a single Excel file\n",
        "selected_rows_concatenated = pd.concat(\n",
        "    [pd.read_excel(os.path.join(temp_dir, f\"{file_name}_selected_row.xlsx\")) for file_name in file_names]\n",
        ")\n",
        "\n",
        "# Save the concatenated selected rows to the final output Excel file\n",
        "selected_rows_concatenated.to_excel(output_excel_file, index=False)\n",
        "\n",
        "# Remove the temporary directory\n",
        "shutil.rmtree(temp_dir)\n"
      ],
      "metadata": {
        "id": "xwoi58K8HkCw"
      },
      "execution_count": 60,
      "outputs": []
    },
    {
      "cell_type": "code",
      "source": [
        "from google.colab import drive\n",
        "drive.mount('/content/drive')"
      ],
      "metadata": {
        "id": "xrQ2n8lDmPNU"
      },
      "execution_count": null,
      "outputs": []
    },
    {
      "cell_type": "code",
      "source": [
        "import shutil\n",
        "\n",
        "def empty_directory(directory_path):\n",
        "    try:\n",
        "        # Use shutil.rmtree() to remove the entire directory and its contents\n",
        "        shutil.rmtree(directory_path)\n",
        "\n",
        "        # Recreate an empty directory at the same path\n",
        "        # (optional, depending on your requirements)\n",
        "        # os.makedirs(directory_path)\n",
        "\n",
        "        print(f\"Contents of '{directory_path}' successfully removed.\")\n",
        "    except Exception as e:\n",
        "        print(f\"Error: {e}\")\n",
        "\n",
        "# Example usage:\n",
        "directory_path = '/content/temp_dir'\n",
        "empty_directory(directory_path)\n"
      ],
      "metadata": {
        "id": "EebKWhE6Jx_G",
        "outputId": "48d8c44b-b758-495b-b615-ebc262a5bc2e",
        "colab": {
          "base_uri": "https://localhost:8080/"
        }
      },
      "execution_count": 42,
      "outputs": [
        {
          "output_type": "stream",
          "name": "stdout",
          "text": [
            "Error: [Errno 2] No such file or directory: '/content/temp_dir'\n"
          ]
        }
      ]
    }
  ],
  "metadata": {
    "colab": {
      "name": "Welcome To Colaboratory",
      "provenance": []
    },
    "kernelspec": {
      "display_name": "Python 3",
      "name": "python3"
    }
  },
  "nbformat": 4,
  "nbformat_minor": 0
}